{
 "cells": [
  {
   "cell_type": "markdown",
   "id": "34cdbdb4",
   "metadata": {},
   "source": [
    "# 1. 데이터 받아 오기"
   ]
  },
  {
   "cell_type": "raw",
   "id": "17578d41",
   "metadata": {},
   "source": [
    "$ mkdir -p ~/aiffel/lyricist/models\n",
    "$ ln -s ~/data ~/aiffel/lyricist/data"
   ]
  },
  {
   "cell_type": "markdown",
   "id": "223faaee",
   "metadata": {},
   "source": [
    "# 2. 데이터 읽어오기"
   ]
  },
  {
   "cell_type": "code",
   "execution_count": 1,
   "id": "4f6c78a8",
   "metadata": {},
   "outputs": [
    {
     "name": "stdout",
     "output_type": "stream",
     "text": [
      "데이터 크기: 187088\n",
      "Examples:\n",
      " [\"Now I've heard there was a secret chord\", 'That David played, and it pleased the Lord', \"But you don't really care for music, do you?\", 'It goes like this', 'The fourth, the fifth', 'The minor fall, the major lift', 'The baffled king composing Hallelujah Hallelujah', 'Hallelujah', 'Hallelujah', 'Hallelujah Your faith was strong but you needed proof']\n"
     ]
    }
   ],
   "source": [
    "import glob\n",
    "import os, re\n",
    "import numpy as np\n",
    "import tensorflow as tf\n",
    "\n",
    "txt_file_path = os.getenv('HOME')+'/aiffel/lyricist/data/lyrics/*'\n",
    "\n",
    "txt_list = glob.glob(txt_file_path)\n",
    "\n",
    "raw_corpus = []\n",
    "\n",
    "# 여러개의 txt 파일을 모두 읽어서 raw_corpus 에 담습니다.\n",
    "for txt_file in txt_list:\n",
    "    with open(txt_file, \"r\") as f:\n",
    "        raw = f.read().splitlines()\n",
    "        raw_corpus.extend(raw)\n",
    "\n",
    "print(\"데이터 크기:\", len(raw_corpus))\n",
    "print(\"Examples:\\n\", raw_corpus[:10])"
   ]
  },
  {
   "cell_type": "markdown",
   "id": "5cf7db0d",
   "metadata": {},
   "source": [
    "# 3. 데이터 다듬기"
   ]
  },
  {
   "cell_type": "code",
   "execution_count": 2,
   "id": "06fe87c7",
   "metadata": {},
   "outputs": [
    {
     "name": "stdout",
     "output_type": "stream",
     "text": [
      "Now I've heard there was a secret chord\n",
      "That David played, and it pleased the Lord\n",
      "But you don't really care for music, do you?\n",
      "It goes like this\n",
      "The fourth, the fifth\n",
      "The minor fall, the major lift\n",
      "The baffled king composing Hallelujah Hallelujah\n",
      "Hallelujah\n",
      "Hallelujah\n",
      "Hallelujah Your faith was strong but you needed proof\n",
      "You saw her bathing on the roof\n",
      "Her beauty and the moonlight overthrew her\n",
      "She tied you\n",
      "To a kitchen chair\n",
      "She broke your throne, and she cut your hair\n",
      "And from your lips she drew the Hallelujah Hallelujah\n"
     ]
    }
   ],
   "source": [
    "for idx, sentence in enumerate(raw_corpus):\n",
    "    if len(sentence) == 0: continue   # 길이가 0인 문장은 건너뜁니다.\n",
    "    if sentence[-1] == \":\": continue  # 문장의 끝이 : 인 문장은 건너뜁니다.\n",
    "\n",
    "    if idx > 15: break   # 일단 문장 10개만 확인해 볼 겁니다.\n",
    "        \n",
    "    print(sentence) # 공백을 제외하고 원하는 문장들만 출력! 결과를 보니 제대로 나온듯!!"
   ]
  },
  {
   "cell_type": "markdown",
   "id": "8783bc0a",
   "metadata": {},
   "source": [
    "# 4. 전처리(필터링)"
   ]
  },
  {
   "cell_type": "code",
   "execution_count": 3,
   "id": "361e8a10",
   "metadata": {},
   "outputs": [
    {
     "name": "stdout",
     "output_type": "stream",
     "text": [
      "<start> this is sample sentence . <end>\n"
     ]
    }
   ],
   "source": [
    "# 입력된 문장을\n",
    "#     1. 소문자로 바꾸고, 양쪽 공백을 지웁니다\n",
    "#     2. 특수문자 양쪽에 공백을 넣고\n",
    "#     3. 여러개의 공백은 하나의 공백으로 바꿉니다\n",
    "#     4. a-zA-Z?.!,¿가 아닌 모든 문자를 하나의 공백으로 바꿉니다\n",
    "#     5. 다시 양쪽 공백을 지웁니다\n",
    "#     6. 문장 시작에는 <start>, 끝에는 <end>를 추가합니다\n",
    "# 이 순서로 처리해주면 문제가 되는 상황을 방지할 수 있겠네요!\n",
    "def preprocess_sentence(sentence):\n",
    "    sentence = sentence.lower().strip() # 1\n",
    "    sentence = re.sub(r\"([?.!,¿])\", r\" \\1 \", sentence) # 2\n",
    "    sentence = re.sub(r'[\" \"]+', \" \", sentence) # 3\n",
    "    sentence = re.sub(r\"[^a-zA-Z?.!,¿]+\", \" \", sentence) # 4\n",
    "    sentence = sentence.strip() # 5\n",
    "    sentence = '<start> ' + sentence + ' <end>' # 6\n",
    "    return sentence\n",
    "\n",
    "# 이 문장이 어떻게 필터링되는지 확인해 보세요.\n",
    "print(preprocess_sentence(\"This @_is ;;;sample        sentence.\"))"
   ]
  },
  {
   "cell_type": "markdown",
   "id": "36e59872",
   "metadata": {},
   "source": [
    "# 5. 정재된 문장 모아보기"
   ]
  },
  {
   "cell_type": "code",
   "execution_count": 4,
   "id": "cc55bcef",
   "metadata": {},
   "outputs": [
    {
     "data": {
      "text/plain": [
       "['<start> now i ve heard there was a secret chord <end>',\n",
       " '<start> that david played , and it pleased the lord <end>',\n",
       " '<start> but you don t really care for music , do you ? <end>',\n",
       " '<start> it goes like this <end>',\n",
       " '<start> the fourth , the fifth <end>',\n",
       " '<start> the minor fall , the major lift <end>',\n",
       " '<start> the baffled king composing hallelujah hallelujah <end>',\n",
       " '<start> hallelujah <end>',\n",
       " '<start> hallelujah <end>',\n",
       " '<start> hallelujah your faith was strong but you needed proof <end>']"
      ]
     },
     "execution_count": 4,
     "metadata": {},
     "output_type": "execute_result"
    }
   ],
   "source": [
    "corpus = []\n",
    "\n",
    "for sentence in raw_corpus:\n",
    "    # 우리가 원하지 않는 문장은 건너뜁니다\n",
    "    if len(sentence) == 0: continue\n",
    "    if sentence[-1] == \":\": continue\n",
    "    \n",
    "    # 정제를 하고 담아주세요\n",
    "    preprocessed_sentence = preprocess_sentence(sentence)\n",
    "    corpus.append(preprocessed_sentence)\n",
    "        \n",
    "# 정제된 결과를 10개만 확인해보죠\n",
    "corpus[:10]"
   ]
  },
  {
   "cell_type": "markdown",
   "id": "760f5df0",
   "metadata": {},
   "source": [
    "# 6. 토큰화"
   ]
  },
  {
   "cell_type": "code",
   "execution_count": 5,
   "id": "4d6d2074",
   "metadata": {
    "scrolled": true
   },
   "outputs": [
    {
     "name": "stdout",
     "output_type": "stream",
     "text": [
      "[[   2   50    5 ...    0    0    0]\n",
      " [   2   17 2639 ...    0    0    0]\n",
      " [   2   36    7 ...   43    3    0]\n",
      " ...\n",
      " [   5   22    9 ...   10 1013    3]\n",
      " [  37   15 9049 ...  877  647    3]\n",
      " [   2    7   34 ...    0    0    0]] <keras_preprocessing.text.Tokenizer object at 0x7f7ad3f8cc70>\n"
     ]
    }
   ],
   "source": [
    "def tokenize(corpus):\n",
    "    # 20000단어를 기억할 수 있는 tokenizer를 만들겁니다\n",
    "    # 우리는 이미 문장을 정제했으니 filters가 필요없어요\n",
    "    # 20000단어에 포함되지 못한 단어는 '<unk>'로 바꿀거에요\n",
    "    tokenizer = tf.keras.preprocessing.text.Tokenizer(\n",
    "        num_words=20000, \n",
    "        filters=' ',\n",
    "        oov_token=\"<unk>\"\n",
    "    )\n",
    "    # corpus를 이용해 tokenizer 내부의 단어장을 완성합니다\n",
    "    tokenizer.fit_on_texts(corpus)\n",
    "    # 준비한 tokenizer를 이용해 corpus를 Tensor로 변환합니다\n",
    "    tensor = tokenizer.texts_to_sequences(corpus)   \n",
    "    # 입력 데이터의 시퀀스 길이를 일정하게 맞춰줍니다\n",
    "    # 만약 시퀀스가 짧다면 문장 뒤에 패딩을 붙여 길이를 맞춰줍니다.\n",
    "    # 문장 앞에 패딩을 붙여 길이를 맞추고 싶다면 padding='pre'를 사용합니다 \n",
    "    tensor = tf.keras.preprocessing.sequence.pad_sequences(tensor, padding='post', maxlen=15)\n",
    "    print(tensor,tokenizer)\n",
    "    return tensor, tokenizer\n",
    "\n",
    "tensor, tokenizer = tokenize(corpus)"
   ]
  },
  {
   "cell_type": "markdown",
   "id": "538acc6f",
   "metadata": {},
   "source": [
    "### tensor 확인하기"
   ]
  },
  {
   "cell_type": "code",
   "execution_count": 6,
   "id": "80b40e05",
   "metadata": {
    "scrolled": false
   },
   "outputs": [
    {
     "name": "stdout",
     "output_type": "stream",
     "text": [
      "[[   2   50    5   91  297   65   57    9  969 6042    3    0    0    0\n",
      "     0]\n",
      " [   2   17 2639  873    4    8   11 6043    6  329    3    0    0    0\n",
      "     0]\n",
      " [   2   36    7   37   15  164  282   28  299    4   47    7   43    3\n",
      "     0]]\n"
     ]
    }
   ],
   "source": [
    "print(tensor[:3, :15]) "
   ]
  },
  {
   "cell_type": "markdown",
   "id": "dd1da22a",
   "metadata": {},
   "source": [
    "### tokenizer에 구축된 단어 사전의 인덱스 확인하기"
   ]
  },
  {
   "cell_type": "code",
   "execution_count": 7,
   "id": "3b661847",
   "metadata": {
    "scrolled": true
   },
   "outputs": [
    {
     "name": "stdout",
     "output_type": "stream",
     "text": [
      "1 : <unk>\n",
      "2 : <start>\n",
      "3 : <end>\n",
      "4 : ,\n",
      "5 : i\n",
      "6 : the\n",
      "7 : you\n",
      "8 : and\n",
      "9 : a\n",
      "10 : to\n",
      "11 : it\n",
      "12 : me\n",
      "13 : my\n",
      "14 : in\n",
      "15 : t\n",
      "16 : s\n",
      "17 : that\n",
      "18 : on\n",
      "19 : of\n",
      "20 : .\n"
     ]
    }
   ],
   "source": [
    "for idx in tokenizer.index_word:\n",
    "    print(idx, \":\", tokenizer.index_word[idx])\n",
    "\n",
    "    if idx >= 20: break "
   ]
  },
  {
   "cell_type": "code",
   "execution_count": 8,
   "id": "771d7c93",
   "metadata": {},
   "outputs": [
    {
     "name": "stdout",
     "output_type": "stream",
     "text": [
      "[   2   50    5   91  297   65   57    9  969 6042    3    0    0    0]\n",
      "[  50    5   91  297   65   57    9  969 6042    3    0    0    0    0]\n"
     ]
    }
   ],
   "source": [
    "# tensor에서 마지막 토큰을 잘라내서 소스 문장을 생성합니다\n",
    "# 마지막 토큰은 <end>가 아니라 <pad>일 가능성이 높습니다.\n",
    "enc = tensor[:, :-1]  \n",
    "# tensor에서 <start>를 잘라내서 타겟 문장을 생성합니다.\n",
    "dec = tensor[:, 1:]    \n",
    "\n",
    "print(enc[0])\n",
    "print(dec[0])"
   ]
  },
  {
   "cell_type": "code",
   "execution_count": 9,
   "id": "594232b8",
   "metadata": {},
   "outputs": [],
   "source": [
    "from sklearn.model_selection import train_test_split\n",
    "\n",
    "enc_train, enc_val, dec_train, dec_val = train_test_split(enc,dec, test_size=0.2, random_state=42)"
   ]
  },
  {
   "cell_type": "markdown",
   "id": "391015a5",
   "metadata": {},
   "source": [
    "# 7. 학습시키기"
   ]
  },
  {
   "cell_type": "code",
   "execution_count": 10,
   "id": "255fd164",
   "metadata": {},
   "outputs": [],
   "source": [
    "class TextGenerator(tf.keras.Model):\n",
    "    def __init__(self, vocab_size, embedding_size, hidden_size):\n",
    "        super().__init__()\n",
    "        \n",
    "        self.embedding = tf.keras.layers.Embedding(vocab_size, embedding_size)\n",
    "        self.rnn_1 = tf.keras.layers.LSTM(hidden_size, return_sequences=True)\n",
    "        self.rnn_2 = tf.keras.layers.LSTM(hidden_size, return_sequences=True)\n",
    "        self.linear = tf.keras.layers.Dense(vocab_size)\n",
    "        \n",
    "    def call(self, x):\n",
    "        out = self.embedding(x)\n",
    "        out = self.rnn_1(out)\n",
    "        out = self.rnn_2(out)\n",
    "        out = self.linear(out)\n",
    "        \n",
    "        return out\n",
    "    \n",
    "embedding_size = 256\n",
    "hidden_size = 1024\n",
    "model = TextGenerator(tokenizer.num_words + 1, embedding_size , hidden_size)"
   ]
  },
  {
   "cell_type": "code",
   "execution_count": 11,
   "id": "188c12eb",
   "metadata": {},
   "outputs": [
    {
     "data": {
      "text/plain": [
       "<BatchDataset shapes: ((256, 14), (256, 14)), types: (tf.int32, tf.int32)>"
      ]
     },
     "execution_count": 11,
     "metadata": {},
     "output_type": "execute_result"
    }
   ],
   "source": [
    "BUFFER_SIZE = len(enc)\n",
    "BATCH_SIZE = 256\n",
    "steps_per_epoch = len(enc) // BATCH_SIZE\n",
    "\n",
    " # tokenizer가 구축한 단어사전 내 20000개와, 여기 포함되지 않은 0:<pad>를 포함하여 20001개\n",
    "VOCAB_SIZE = tokenizer.num_words + 1   \n",
    "\n",
    "# 준비한 데이터 소스로부터 데이터셋을 만듭니다\n",
    "# 데이터셋에 대해서는 아래 문서를 참고하세요\n",
    "# 자세히 알아둘수록 도움이 많이 되는 중요한 문서입니다\n",
    "# https://www.tensorflow.org/api_docs/python/tf/data/Dataset\n",
    "dataset = tf.data.Dataset.from_tensor_slices((enc, dec))\n",
    "dataset = dataset.shuffle(BUFFER_SIZE)\n",
    "dataset = dataset.batch(BATCH_SIZE, drop_remainder=True)\n",
    "dataset"
   ]
  },
  {
   "cell_type": "code",
   "execution_count": 12,
   "id": "ac4336c4",
   "metadata": {},
   "outputs": [
    {
     "data": {
      "text/plain": [
       "<tf.Tensor: shape=(256, 14, 20001), dtype=float32, numpy=\n",
       "array([[[ 6.45486070e-05, -2.69638786e-05,  1.68674509e-04, ...,\n",
       "          1.05245272e-04,  1.15210692e-04,  3.25496476e-05],\n",
       "        [-7.81954950e-05, -4.00930468e-04,  3.13864235e-04, ...,\n",
       "         -1.60109150e-04,  1.59622417e-04,  1.02903568e-05],\n",
       "        [ 1.40118245e-05, -6.39950798e-04,  3.75862670e-04, ...,\n",
       "         -4.49892366e-04,  3.50168411e-05,  7.62780401e-05],\n",
       "        ...,\n",
       "        [ 7.85014068e-04, -8.24523799e-04,  1.23788801e-03, ...,\n",
       "          3.78918048e-04,  1.20759527e-04, -1.15630543e-03],\n",
       "        [ 7.80287082e-04, -9.40360827e-04,  1.20687799e-03, ...,\n",
       "          3.87069042e-04,  2.18413261e-04, -1.50831114e-03],\n",
       "        [ 7.43602228e-04, -1.06843794e-03,  1.14153896e-03, ...,\n",
       "          4.03142272e-04,  2.90829485e-04, -1.83811889e-03]],\n",
       "\n",
       "       [[ 6.45486070e-05, -2.69638786e-05,  1.68674509e-04, ...,\n",
       "          1.05245272e-04,  1.15210692e-04,  3.25496476e-05],\n",
       "        [ 3.70621965e-05,  9.68101631e-06,  2.76261300e-04, ...,\n",
       "          2.36904132e-04, -1.32511996e-04,  2.44597235e-04],\n",
       "        [-8.66034970e-05, -2.25417371e-05,  2.60902219e-04, ...,\n",
       "          1.66060854e-04, -2.17177847e-04,  3.84363695e-04],\n",
       "        ...,\n",
       "        [ 4.74218286e-05, -4.25347243e-04,  1.00711791e-03, ...,\n",
       "          1.82533367e-05,  3.66834109e-04, -1.04482519e-03],\n",
       "        [ 1.06805674e-04, -6.32653770e-04,  1.04285916e-03, ...,\n",
       "          8.71214943e-05,  3.97738128e-04, -1.39122410e-03],\n",
       "        [ 1.41030134e-04, -8.37003696e-04,  1.03692827e-03, ...,\n",
       "          1.54647947e-04,  4.11989109e-04, -1.71773264e-03]],\n",
       "\n",
       "       [[ 6.45486070e-05, -2.69638786e-05,  1.68674509e-04, ...,\n",
       "          1.05245272e-04,  1.15210692e-04,  3.25496476e-05],\n",
       "        [-1.19423916e-04, -1.34538772e-04,  1.51438886e-04, ...,\n",
       "          1.18453965e-04,  3.72323004e-04, -6.26434121e-05],\n",
       "        [-5.36072148e-05, -2.32675156e-04,  3.39073391e-04, ...,\n",
       "          1.34195536e-04,  4.32676607e-04, -4.70148370e-05],\n",
       "        ...,\n",
       "        [ 2.57723237e-04, -3.89274122e-04, -9.32605471e-05, ...,\n",
       "          1.72323402e-04, -4.51353844e-04,  1.20535027e-03],\n",
       "        [ 2.26789532e-04, -1.29817752e-04, -4.39228188e-06, ...,\n",
       "          2.73196638e-04, -1.98379334e-04,  1.13064598e-03],\n",
       "        [ 2.58175278e-04, -8.06472672e-05,  2.50209006e-04, ...,\n",
       "          3.38301790e-04,  2.25852054e-05,  9.49841633e-04]],\n",
       "\n",
       "       ...,\n",
       "\n",
       "       [[ 6.45486070e-05, -2.69638786e-05,  1.68674509e-04, ...,\n",
       "          1.05245272e-04,  1.15210692e-04,  3.25496476e-05],\n",
       "        [ 2.02815412e-04, -2.02957279e-04,  2.57429259e-04, ...,\n",
       "          5.39239809e-05,  1.60733762e-04,  8.34200473e-05],\n",
       "        [ 2.37187633e-04, -3.30011593e-04,  2.69824144e-04, ...,\n",
       "         -2.71643104e-04, -5.70419161e-06,  1.00644051e-04],\n",
       "        ...,\n",
       "        [ 4.18243144e-04, -4.25615617e-05,  1.45636513e-04, ...,\n",
       "         -1.51537155e-04,  2.24279123e-04, -9.18735459e-04],\n",
       "        [ 4.53958230e-04, -2.12578438e-04,  3.46967805e-04, ...,\n",
       "         -1.41541634e-04,  3.44673783e-04, -1.25998759e-03],\n",
       "        [ 4.72390529e-04, -4.07189335e-04,  4.95248882e-04, ...,\n",
       "         -1.13324830e-04,  4.22868266e-04, -1.58524013e-03]],\n",
       "\n",
       "       [[ 6.45486070e-05, -2.69638786e-05,  1.68674509e-04, ...,\n",
       "          1.05245272e-04,  1.15210692e-04,  3.25496476e-05],\n",
       "        [ 1.35355775e-04, -1.43779631e-04,  4.53615852e-04, ...,\n",
       "          1.96597117e-04,  2.56224448e-04, -4.30692635e-05],\n",
       "        [ 2.45917880e-04, -2.86408642e-04,  7.05388957e-04, ...,\n",
       "          2.02783544e-04,  4.14956856e-04, -2.09728285e-04],\n",
       "        ...,\n",
       "        [ 3.05077469e-04, -1.60364877e-03,  6.03103486e-04, ...,\n",
       "          3.71520116e-04,  5.76619350e-04, -2.68588820e-03],\n",
       "        [ 2.40745241e-04, -1.70025090e-03,  5.22795774e-04, ...,\n",
       "          4.25493170e-04,  5.59303735e-04, -2.87901866e-03],\n",
       "        [ 1.78868955e-04, -1.78582361e-03,  4.49878746e-04, ...,\n",
       "          4.79488575e-04,  5.46851254e-04, -3.04710818e-03]],\n",
       "\n",
       "       [[ 6.45486070e-05, -2.69638786e-05,  1.68674509e-04, ...,\n",
       "          1.05245272e-04,  1.15210692e-04,  3.25496476e-05],\n",
       "        [ 1.88636957e-04, -1.16976211e-04,  2.89750489e-04, ...,\n",
       "          1.57479488e-04,  8.90530864e-05,  1.66599115e-04],\n",
       "        [ 2.78846244e-04, -5.05523232e-04,  4.56161593e-04, ...,\n",
       "          1.55740301e-04,  1.01239406e-04,  3.15788784e-04],\n",
       "        ...,\n",
       "        [ 9.76554060e-04, -1.08875846e-03,  7.30017491e-04, ...,\n",
       "          6.74131035e-04,  5.93741133e-04, -1.24216953e-03],\n",
       "        [ 9.13632102e-04, -1.17013953e-03,  6.91482797e-04, ...,\n",
       "          6.48621412e-04,  6.21169223e-04, -1.60663622e-03],\n",
       "        [ 8.22046190e-04, -1.26945111e-03,  6.37206482e-04, ...,\n",
       "          6.30099617e-04,  6.29454094e-04, -1.93809264e-03]]],\n",
       "      dtype=float32)>"
      ]
     },
     "execution_count": 12,
     "metadata": {},
     "output_type": "execute_result"
    }
   ],
   "source": [
    "# 데이터셋에서 데이터 한 배치만 불러오는 방법입니다.\n",
    "# 지금은 동작 원리에 너무 빠져들지 마세요~\n",
    "for enc_sample, dec_sample in dataset.take(1): break\n",
    "\n",
    "# 한 배치만 불러온 데이터를 모델에 넣어봅니다\n",
    "model(enc_sample)"
   ]
  },
  {
   "cell_type": "code",
   "execution_count": 13,
   "id": "7bdcca41",
   "metadata": {},
   "outputs": [
    {
     "name": "stdout",
     "output_type": "stream",
     "text": [
      "Model: \"text_generator\"\n",
      "_________________________________________________________________\n",
      "Layer (type)                 Output Shape              Param #   \n",
      "=================================================================\n",
      "embedding (Embedding)        multiple                  5120256   \n",
      "_________________________________________________________________\n",
      "lstm (LSTM)                  multiple                  5246976   \n",
      "_________________________________________________________________\n",
      "lstm_1 (LSTM)                multiple                  8392704   \n",
      "_________________________________________________________________\n",
      "dense (Dense)                multiple                  20501025  \n",
      "=================================================================\n",
      "Total params: 39,260,961\n",
      "Trainable params: 39,260,961\n",
      "Non-trainable params: 0\n",
      "_________________________________________________________________\n"
     ]
    }
   ],
   "source": [
    "model.summary()"
   ]
  },
  {
   "cell_type": "code",
   "execution_count": 14,
   "id": "e27a4d33",
   "metadata": {},
   "outputs": [
    {
     "name": "stdout",
     "output_type": "stream",
     "text": [
      "Epoch 1/10\n",
      "686/686 [==============================] - 149s 212ms/step - loss: 3.7497\n",
      "Epoch 2/10\n",
      "686/686 [==============================] - 159s 232ms/step - loss: 3.2177\n",
      "Epoch 3/10\n",
      "686/686 [==============================] - 166s 242ms/step - loss: 3.0257\n",
      "Epoch 4/10\n",
      "686/686 [==============================] - 166s 242ms/step - loss: 2.8814\n",
      "Epoch 5/10\n",
      "686/686 [==============================] - 166s 242ms/step - loss: 2.7564\n",
      "Epoch 6/10\n",
      "686/686 [==============================] - 167s 243ms/step - loss: 2.6445\n",
      "Epoch 7/10\n",
      "686/686 [==============================] - 166s 242ms/step - loss: 2.5417\n",
      "Epoch 8/10\n",
      "686/686 [==============================] - 166s 242ms/step - loss: 2.4458\n",
      "Epoch 9/10\n",
      "686/686 [==============================] - 167s 242ms/step - loss: 2.3569\n",
      "Epoch 10/10\n",
      "686/686 [==============================] - 167s 243ms/step - loss: 2.2728\n"
     ]
    },
    {
     "data": {
      "text/plain": [
       "<keras.callbacks.History at 0x7f7ab8076490>"
      ]
     },
     "execution_count": 14,
     "metadata": {},
     "output_type": "execute_result"
    }
   ],
   "source": [
    "# optimizer와 loss등은 차차 배웁니다\n",
    "# 혹시 미리 알고 싶다면 아래 문서를 참고하세요\n",
    "# https://www.tensorflow.org/api_docs/python/tf/keras/optimizers\n",
    "# https://www.tensorflow.org/api_docs/python/tf/keras/losses\n",
    "# 양이 상당히 많은 편이니 지금 보는 것은 추천하지 않습니다\n",
    "optimizer = tf.keras.optimizers.Adam()\n",
    "loss = tf.keras.losses.SparseCategoricalCrossentropy(\n",
    "    from_logits=True, reduction='none')\n",
    "\n",
    "model.compile(loss=loss, optimizer=optimizer)\n",
    "model.fit(dataset, epochs=10)"
   ]
  },
  {
   "cell_type": "code",
   "execution_count": 15,
   "id": "acab9ed7",
   "metadata": {},
   "outputs": [],
   "source": [
    "def generate_text(model, tokenizer, init_sentence=\"<start>\", max_len=20):\n",
    "    # 테스트를 위해서 입력받은 init_sentence도 텐서로 변환합니다\n",
    "    test_input = tokenizer.texts_to_sequences([init_sentence])\n",
    "    test_tensor = tf.convert_to_tensor(test_input, dtype=tf.int64)\n",
    "    end_token = tokenizer.word_index[\"<end>\"]\n",
    "\n",
    "    # 단어 하나씩 예측해 문장을 만듭니다\n",
    "    #    1. 입력받은 문장의 텐서를 입력합니다\n",
    "    #    2. 예측된 값 중 가장 높은 확률인 word index를 뽑아냅니다\n",
    "    #    3. 2에서 예측된 word index를 문장 뒤에 붙입니다\n",
    "    #    4. 모델이 <end>를 예측했거나, max_len에 도달했다면 문장 생성을 마칩니다\n",
    "    while True:\n",
    "        # 1\n",
    "        predict = model(test_tensor) \n",
    "        # 2\n",
    "        predict_word = tf.argmax(tf.nn.softmax(predict, axis=-1), axis=-1)[:, -1] \n",
    "        # 3 \n",
    "        test_tensor = tf.concat([test_tensor, tf.expand_dims(predict_word, axis=0)], axis=-1)\n",
    "        # 4\n",
    "        if predict_word.numpy()[0] == end_token: break\n",
    "        if test_tensor.shape[1] >= max_len: break\n",
    "\n",
    "    generated = \"\"\n",
    "    # tokenizer를 이용해 word index를 단어로 하나씩 변환합니다 \n",
    "    for word_index in test_tensor[0].numpy():\n",
    "        generated += tokenizer.index_word[word_index] + \" \"\n",
    "\n",
    "    return generated"
   ]
  },
  {
   "cell_type": "markdown",
   "id": "38011183",
   "metadata": {},
   "source": [
    "# 결과"
   ]
  },
  {
   "cell_type": "code",
   "execution_count": 22,
   "id": "e6f12180",
   "metadata": {},
   "outputs": [
    {
     "data": {
      "text/plain": [
       "'<start> she s got a big ego hahaha <end> '"
      ]
     },
     "execution_count": 22,
     "metadata": {},
     "output_type": "execute_result"
    }
   ],
   "source": [
    "generate_text(model, tokenizer, init_sentence=\"<start> she\")"
   ]
  },
  {
   "cell_type": "code",
   "execution_count": 17,
   "id": "51fcf70c",
   "metadata": {},
   "outputs": [
    {
     "data": {
      "text/plain": [
       "'<start> girl , i m a motherfucking monster <end> '"
      ]
     },
     "execution_count": 17,
     "metadata": {},
     "output_type": "execute_result"
    }
   ],
   "source": [
    "generate_text(model, tokenizer, init_sentence=\"<start> girl\")"
   ]
  },
  {
   "cell_type": "code",
   "execution_count": 18,
   "id": "8fecb593",
   "metadata": {},
   "outputs": [
    {
     "data": {
      "text/plain": [
       "'<start> him and the only one that s in the game <end> '"
      ]
     },
     "execution_count": 18,
     "metadata": {},
     "output_type": "execute_result"
    }
   ],
   "source": [
    "generate_text(model, tokenizer, init_sentence=\"<start> him\")"
   ]
  },
  {
   "cell_type": "code",
   "execution_count": 19,
   "id": "9034867d",
   "metadata": {},
   "outputs": [
    {
     "data": {
      "text/plain": [
       "'<start> smoke barney and <unk> , <end> '"
      ]
     },
     "execution_count": 19,
     "metadata": {},
     "output_type": "execute_result"
    }
   ],
   "source": [
    "generate_text(model, tokenizer, init_sentence=\"<start> smoke\")"
   ]
  },
  {
   "cell_type": "code",
   "execution_count": 20,
   "id": "b602aac7",
   "metadata": {},
   "outputs": [
    {
     "data": {
      "text/plain": [
       "'<start> voodoo davey with a <unk> tatted <end> '"
      ]
     },
     "execution_count": 20,
     "metadata": {},
     "output_type": "execute_result"
    }
   ],
   "source": [
    "generate_text(model, tokenizer, init_sentence=\"<start> voodoo\")"
   ]
  },
  {
   "cell_type": "code",
   "execution_count": 21,
   "id": "2c086f96",
   "metadata": {},
   "outputs": [
    {
     "data": {
      "text/plain": [
       "'<start> <unk> <end> '"
      ]
     },
     "execution_count": 21,
     "metadata": {},
     "output_type": "execute_result"
    }
   ],
   "source": [
    "generate_text(model, tokenizer, init_sentence=\"<start> sungjun\")"
   ]
  },
  {
   "cell_type": "markdown",
   "id": "1bde1372",
   "metadata": {},
   "source": [
    "# 회고"
   ]
  },
  {
   "cell_type": "markdown",
   "id": "65993187",
   "metadata": {},
   "source": [
    "### CV만 하다 첫 NLP 였는데 작사에 대한 학습 시키는 것이 생각 보다 재밌었습니다. 마지막 결과에서 제 이름으로 문장을 시작하려 했으나 < unk > 가 떴습니다. 학습한 데이터 중에 sunjun이라는 단어가 없어서 그런 것 같습니다. "
   ]
  },
  {
   "cell_type": "code",
   "execution_count": null,
   "id": "257e43de",
   "metadata": {},
   "outputs": [],
   "source": []
  }
 ],
 "metadata": {
  "kernelspec": {
   "display_name": "Python 3 (ipykernel)",
   "language": "python",
   "name": "python3"
  },
  "language_info": {
   "codemirror_mode": {
    "name": "ipython",
    "version": 3
   },
   "file_extension": ".py",
   "mimetype": "text/x-python",
   "name": "python",
   "nbconvert_exporter": "python",
   "pygments_lexer": "ipython3",
   "version": "3.9.7"
  }
 },
 "nbformat": 4,
 "nbformat_minor": 5
}
